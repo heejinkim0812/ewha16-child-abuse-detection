{
  "nbformat": 4,
  "nbformat_minor": 0,
  "metadata": {
    "colab": {
      "name": "trainModel_최종.ipynb",
      "provenance": [],
      "collapsed_sections": []
    },
    "kernelspec": {
      "name": "python3",
      "display_name": "Python 3"
    },
    "accelerator": "GPU"
  },
  "cells": [
    {
      "cell_type": "code",
      "metadata": {
        "id": "W71I_JqTu29i",
        "colab": {
          "base_uri": "https://localhost:8080/"
        },
        "outputId": "1e0eb46e-e157-41e0-a04a-2bc3ad6c0e07"
      },
      "source": [
        "import numpy as np\n",
        "import tensorflow as tf\n",
        "from tensorflow import keras\n",
        "import pandas as pd\n",
        "import seaborn as sns\n",
        "from pylab import rcParams\n",
        "import matplotlib.pyplot as plt\n",
        "from matplotlib import rc\n",
        "from pandas.plotting import register_matplotlib_converters\n",
        "\n",
        "\n",
        "from google.colab import drive\n",
        "drive.mount('/content/drive')\n",
        "\n",
        "%matplotlib inline\n",
        "%config InlineBackend.figure_format='retina'\n",
        "\n",
        "register_matplotlib_converters()\n",
        "sns.set(style='whitegrid', palette='muted', font_scale=1.5)\n",
        "\n",
        "rcParams['figure.figsize'] = 22, 10\n",
        "\n",
        "RANDOM_SEED = 42\n",
        "\n",
        "np.random.seed(RANDOM_SEED)\n",
        "tf.random.set_seed(RANDOM_SEED)"
      ],
      "execution_count": null,
      "outputs": [
        {
          "output_type": "stream",
          "name": "stdout",
          "text": [
            "Mounted at /content/drive\n"
          ]
        }
      ]
    },
    {
      "cell_type": "code",
      "metadata": {
        "id": "CQ6JN-x8BP-G"
      },
      "source": [
        "import os\n",
        "import glob as glob\n",
        "import numpy as np\n",
        "import pandas as pd\n",
        "\n",
        "path= '/content/drive/MyDrive/Total_CSV/input_'\n",
        "\n",
        "activity = [\"Hit\",\"Kick\",\"notHit\",\"notShove\",\"Shove\"]\n",
        "input = pd.DataFrame()\n",
        "video_num = 340\n",
        "count = 0\n",
        "\n",
        "for i in range(1,video_num):\n",
        "  for act in activity:\n",
        "    address = path +act + str(i) +\".csv\"\n",
        "    df = pd.read_csv(address,header=None)\n",
        "    df_cut = df[:52]\n",
        "    df_t = np.transpose(df_cut)\n",
        "    df_t['activity'] = (\"abuse\" if act in [\"Hit\",\"Kick\",\"Shove\"] else \"normal\")\n",
        "    df_t['video_num'] = count\n",
        "    df_t['frame'] = [i for i in range(1,df_t.shape[0]+1)]\n",
        "    input = pd.concat([input,df_t])\n",
        "    count += 1"
      ],
      "execution_count": null,
      "outputs": []
    },
    {
      "cell_type": "code",
      "metadata": {
        "colab": {
          "base_uri": "https://localhost:8080/",
          "height": 617
        },
        "id": "TO3w7Ej4NlzR",
        "outputId": "cd635cbe-084c-4eed-bbdc-43ab37cba9d1"
      },
      "source": [
        "input.head(100)"
      ],
      "execution_count": null,
      "outputs": [
        {
          "output_type": "execute_result",
          "data": {
            "text/html": [
              "<div>\n",
              "<style scoped>\n",
              "    .dataframe tbody tr th:only-of-type {\n",
              "        vertical-align: middle;\n",
              "    }\n",
              "\n",
              "    .dataframe tbody tr th {\n",
              "        vertical-align: top;\n",
              "    }\n",
              "\n",
              "    .dataframe thead th {\n",
              "        text-align: right;\n",
              "    }\n",
              "</style>\n",
              "<table border=\"1\" class=\"dataframe\">\n",
              "  <thead>\n",
              "    <tr style=\"text-align: right;\">\n",
              "      <th></th>\n",
              "      <th>0</th>\n",
              "      <th>1</th>\n",
              "      <th>2</th>\n",
              "      <th>3</th>\n",
              "      <th>4</th>\n",
              "      <th>5</th>\n",
              "      <th>6</th>\n",
              "      <th>7</th>\n",
              "      <th>8</th>\n",
              "      <th>9</th>\n",
              "      <th>10</th>\n",
              "      <th>11</th>\n",
              "      <th>12</th>\n",
              "      <th>13</th>\n",
              "      <th>14</th>\n",
              "      <th>15</th>\n",
              "      <th>16</th>\n",
              "      <th>17</th>\n",
              "      <th>18</th>\n",
              "      <th>19</th>\n",
              "      <th>20</th>\n",
              "      <th>21</th>\n",
              "      <th>22</th>\n",
              "      <th>23</th>\n",
              "      <th>24</th>\n",
              "      <th>25</th>\n",
              "      <th>26</th>\n",
              "      <th>27</th>\n",
              "      <th>28</th>\n",
              "      <th>29</th>\n",
              "      <th>30</th>\n",
              "      <th>31</th>\n",
              "      <th>32</th>\n",
              "      <th>33</th>\n",
              "      <th>34</th>\n",
              "      <th>35</th>\n",
              "      <th>36</th>\n",
              "      <th>37</th>\n",
              "      <th>38</th>\n",
              "      <th>39</th>\n",
              "      <th>40</th>\n",
              "      <th>41</th>\n",
              "      <th>42</th>\n",
              "      <th>43</th>\n",
              "      <th>44</th>\n",
              "      <th>45</th>\n",
              "      <th>46</th>\n",
              "      <th>47</th>\n",
              "      <th>48</th>\n",
              "      <th>49</th>\n",
              "      <th>50</th>\n",
              "      <th>51</th>\n",
              "      <th>activity</th>\n",
              "      <th>video_num</th>\n",
              "      <th>frame</th>\n",
              "    </tr>\n",
              "  </thead>\n",
              "  <tbody>\n",
              "    <tr>\n",
              "      <th>0</th>\n",
              "      <td>0.0</td>\n",
              "      <td>0.000000</td>\n",
              "      <td>0.000000</td>\n",
              "      <td>-0.069552</td>\n",
              "      <td>-0.034340</td>\n",
              "      <td>-0.246229</td>\n",
              "      <td>0.083376</td>\n",
              "      <td>-0.000354</td>\n",
              "      <td>-3.057</td>\n",
              "      <td>-0.005914</td>\n",
              "      <td>-5.009491e-03</td>\n",
              "      <td>-0.000278</td>\n",
              "      <td>-0.162700</td>\n",
              "      <td>0.000000</td>\n",
              "      <td>0.000000</td>\n",
              "      <td>0.000000</td>\n",
              "      <td>0.000000</td>\n",
              "      <td>-0.040113</td>\n",
              "      <td>-0.326649</td>\n",
              "      <td>-0.163921</td>\n",
              "      <td>-0.122532</td>\n",
              "      <td>0.000000</td>\n",
              "      <td>0.000000</td>\n",
              "      <td>0.000000</td>\n",
              "      <td>0.000000</td>\n",
              "      <td>0.244841</td>\n",
              "      <td>-0.368691</td>\n",
              "      <td>0.000000</td>\n",
              "      <td>0.000000</td>\n",
              "      <td>0.000000</td>\n",
              "      <td>0.000000</td>\n",
              "      <td>-28.724371</td>\n",
              "      <td>-15.816546</td>\n",
              "      <td>3.022368</td>\n",
              "      <td>-3.588867</td>\n",
              "      <td>-28.724371</td>\n",
              "      <td>-15.816546</td>\n",
              "      <td>-6.170092</td>\n",
              "      <td>-1.350465</td>\n",
              "      <td>-2.113269</td>\n",
              "      <td>-6.167680</td>\n",
              "      <td>-44.725844</td>\n",
              "      <td>-22.580480</td>\n",
              "      <td>-35.916890</td>\n",
              "      <td>-16.614815</td>\n",
              "      <td>-35.916890</td>\n",
              "      <td>-16.614815</td>\n",
              "      <td>-35.916890</td>\n",
              "      <td>-16.614815</td>\n",
              "      <td>46.663181</td>\n",
              "      <td>17.972946</td>\n",
              "      <td>0.000000</td>\n",
              "      <td>abuse</td>\n",
              "      <td>0</td>\n",
              "      <td>1</td>\n",
              "    </tr>\n",
              "    <tr>\n",
              "      <th>1</th>\n",
              "      <td>1.0</td>\n",
              "      <td>0.000000</td>\n",
              "      <td>0.000000</td>\n",
              "      <td>0.298945</td>\n",
              "      <td>-0.203283</td>\n",
              "      <td>0.000514</td>\n",
              "      <td>-0.607511</td>\n",
              "      <td>-0.098054</td>\n",
              "      <td>-2.868</td>\n",
              "      <td>0.178851</td>\n",
              "      <td>-6.204328e-03</td>\n",
              "      <td>0.450883</td>\n",
              "      <td>0.153495</td>\n",
              "      <td>0.000000</td>\n",
              "      <td>0.000000</td>\n",
              "      <td>0.000000</td>\n",
              "      <td>0.000000</td>\n",
              "      <td>0.000000</td>\n",
              "      <td>0.000000</td>\n",
              "      <td>0.000000</td>\n",
              "      <td>0.000000</td>\n",
              "      <td>0.000000</td>\n",
              "      <td>0.000000</td>\n",
              "      <td>0.000000</td>\n",
              "      <td>0.000000</td>\n",
              "      <td>0.000000</td>\n",
              "      <td>0.000000</td>\n",
              "      <td>0.000000</td>\n",
              "      <td>0.000000</td>\n",
              "      <td>0.000000</td>\n",
              "      <td>0.000000</td>\n",
              "      <td>-29.601610</td>\n",
              "      <td>-16.063709</td>\n",
              "      <td>2.967017</td>\n",
              "      <td>-3.609356</td>\n",
              "      <td>-29.601610</td>\n",
              "      <td>-16.063709</td>\n",
              "      <td>88.821930</td>\n",
              "      <td>48.200408</td>\n",
              "      <td>97.724695</td>\n",
              "      <td>37.370254</td>\n",
              "      <td>0.000000</td>\n",
              "      <td>0.000000</td>\n",
              "      <td>0.000000</td>\n",
              "      <td>0.000000</td>\n",
              "      <td>0.000000</td>\n",
              "      <td>0.000000</td>\n",
              "      <td>0.000000</td>\n",
              "      <td>0.000000</td>\n",
              "      <td>60.713279</td>\n",
              "      <td>23.216963</td>\n",
              "      <td>0.000000</td>\n",
              "      <td>abuse</td>\n",
              "      <td>0</td>\n",
              "      <td>2</td>\n",
              "    </tr>\n",
              "    <tr>\n",
              "      <th>2</th>\n",
              "      <td>2.0</td>\n",
              "      <td>0.000000</td>\n",
              "      <td>0.000000</td>\n",
              "      <td>-0.078174</td>\n",
              "      <td>-0.401211</td>\n",
              "      <td>-0.391896</td>\n",
              "      <td>-0.974682</td>\n",
              "      <td>-0.082289</td>\n",
              "      <td>-0.010</td>\n",
              "      <td>0.124836</td>\n",
              "      <td>-6.952314e-03</td>\n",
              "      <td>-0.392561</td>\n",
              "      <td>-0.201736</td>\n",
              "      <td>0.000000</td>\n",
              "      <td>0.000000</td>\n",
              "      <td>0.000000</td>\n",
              "      <td>0.000000</td>\n",
              "      <td>0.000000</td>\n",
              "      <td>0.000000</td>\n",
              "      <td>0.000000</td>\n",
              "      <td>0.000000</td>\n",
              "      <td>0.000000</td>\n",
              "      <td>0.000000</td>\n",
              "      <td>0.000000</td>\n",
              "      <td>0.000000</td>\n",
              "      <td>0.000000</td>\n",
              "      <td>0.000000</td>\n",
              "      <td>0.000000</td>\n",
              "      <td>0.000000</td>\n",
              "      <td>0.000000</td>\n",
              "      <td>0.000000</td>\n",
              "      <td>-22.593015</td>\n",
              "      <td>-12.041253</td>\n",
              "      <td>2.365655</td>\n",
              "      <td>-2.614200</td>\n",
              "      <td>-22.593015</td>\n",
              "      <td>-12.041253</td>\n",
              "      <td>58.001209</td>\n",
              "      <td>30.912530</td>\n",
              "      <td>64.074363</td>\n",
              "      <td>24.201307</td>\n",
              "      <td>0.000000</td>\n",
              "      <td>0.000000</td>\n",
              "      <td>-233.905971</td>\n",
              "      <td>-108.777033</td>\n",
              "      <td>-233.905971</td>\n",
              "      <td>-108.777033</td>\n",
              "      <td>-233.905971</td>\n",
              "      <td>-108.777033</td>\n",
              "      <td>49.851191</td>\n",
              "      <td>18.829121</td>\n",
              "      <td>0.000000</td>\n",
              "      <td>abuse</td>\n",
              "      <td>0</td>\n",
              "      <td>3</td>\n",
              "    </tr>\n",
              "    <tr>\n",
              "      <th>3</th>\n",
              "      <td>3.0</td>\n",
              "      <td>0.000000</td>\n",
              "      <td>0.000000</td>\n",
              "      <td>-0.087218</td>\n",
              "      <td>0.201437</td>\n",
              "      <td>0.318736</td>\n",
              "      <td>0.414520</td>\n",
              "      <td>-0.000295</td>\n",
              "      <td>2.817</td>\n",
              "      <td>0.076540</td>\n",
              "      <td>-1.503039e-03</td>\n",
              "      <td>-0.095512</td>\n",
              "      <td>-0.095610</td>\n",
              "      <td>0.000000</td>\n",
              "      <td>0.000000</td>\n",
              "      <td>0.000000</td>\n",
              "      <td>0.000000</td>\n",
              "      <td>0.351152</td>\n",
              "      <td>0.255227</td>\n",
              "      <td>0.286754</td>\n",
              "      <td>-0.063444</td>\n",
              "      <td>0.057784</td>\n",
              "      <td>-0.029936</td>\n",
              "      <td>0.000000</td>\n",
              "      <td>0.000000</td>\n",
              "      <td>0.000000</td>\n",
              "      <td>0.000000</td>\n",
              "      <td>0.000000</td>\n",
              "      <td>0.000000</td>\n",
              "      <td>0.000000</td>\n",
              "      <td>0.000000</td>\n",
              "      <td>-10.000407</td>\n",
              "      <td>-5.517856</td>\n",
              "      <td>1.141903</td>\n",
              "      <td>-1.360871</td>\n",
              "      <td>-10.000407</td>\n",
              "      <td>-5.517856</td>\n",
              "      <td>-2.496940</td>\n",
              "      <td>-0.570734</td>\n",
              "      <td>-0.643680</td>\n",
              "      <td>-2.779369</td>\n",
              "      <td>-18.727169</td>\n",
              "      <td>-9.525976</td>\n",
              "      <td>-126.593316</td>\n",
              "      <td>-57.415507</td>\n",
              "      <td>-126.593316</td>\n",
              "      <td>-57.415507</td>\n",
              "      <td>-126.593316</td>\n",
              "      <td>-57.415507</td>\n",
              "      <td>22.072295</td>\n",
              "      <td>8.234756</td>\n",
              "      <td>0.000000</td>\n",
              "      <td>abuse</td>\n",
              "      <td>0</td>\n",
              "      <td>4</td>\n",
              "    </tr>\n",
              "    <tr>\n",
              "      <th>4</th>\n",
              "      <td>4.0</td>\n",
              "      <td>0.000000</td>\n",
              "      <td>0.000000</td>\n",
              "      <td>-0.065450</td>\n",
              "      <td>-0.086955</td>\n",
              "      <td>-0.076244</td>\n",
              "      <td>0.025305</td>\n",
              "      <td>-0.043188</td>\n",
              "      <td>0.000</td>\n",
              "      <td>-0.000977</td>\n",
              "      <td>-5.438151e-05</td>\n",
              "      <td>-0.406146</td>\n",
              "      <td>-0.659648</td>\n",
              "      <td>0.000000</td>\n",
              "      <td>0.000000</td>\n",
              "      <td>0.000000</td>\n",
              "      <td>0.000000</td>\n",
              "      <td>-0.101687</td>\n",
              "      <td>0.050930</td>\n",
              "      <td>-0.127131</td>\n",
              "      <td>0.152445</td>\n",
              "      <td>0.000000</td>\n",
              "      <td>0.000000</td>\n",
              "      <td>0.000000</td>\n",
              "      <td>0.000000</td>\n",
              "      <td>-0.026306</td>\n",
              "      <td>0.000621</td>\n",
              "      <td>0.000000</td>\n",
              "      <td>0.000000</td>\n",
              "      <td>0.000000</td>\n",
              "      <td>0.000000</td>\n",
              "      <td>-9.211340</td>\n",
              "      <td>-5.035056</td>\n",
              "      <td>1.119683</td>\n",
              "      <td>-1.181733</td>\n",
              "      <td>-9.211340</td>\n",
              "      <td>-5.035056</td>\n",
              "      <td>-6.415030</td>\n",
              "      <td>-1.783352</td>\n",
              "      <td>-1.516935</td>\n",
              "      <td>-6.952891</td>\n",
              "      <td>-46.710396</td>\n",
              "      <td>-23.809401</td>\n",
              "      <td>-16.833943</td>\n",
              "      <td>-7.897229</td>\n",
              "      <td>-16.833943</td>\n",
              "      <td>-7.897229</td>\n",
              "      <td>-16.833943</td>\n",
              "      <td>-7.897229</td>\n",
              "      <td>14.951701</td>\n",
              "      <td>5.576769</td>\n",
              "      <td>0.000000</td>\n",
              "      <td>abuse</td>\n",
              "      <td>0</td>\n",
              "      <td>5</td>\n",
              "    </tr>\n",
              "    <tr>\n",
              "      <th>...</th>\n",
              "      <td>...</td>\n",
              "      <td>...</td>\n",
              "      <td>...</td>\n",
              "      <td>...</td>\n",
              "      <td>...</td>\n",
              "      <td>...</td>\n",
              "      <td>...</td>\n",
              "      <td>...</td>\n",
              "      <td>...</td>\n",
              "      <td>...</td>\n",
              "      <td>...</td>\n",
              "      <td>...</td>\n",
              "      <td>...</td>\n",
              "      <td>...</td>\n",
              "      <td>...</td>\n",
              "      <td>...</td>\n",
              "      <td>...</td>\n",
              "      <td>...</td>\n",
              "      <td>...</td>\n",
              "      <td>...</td>\n",
              "      <td>...</td>\n",
              "      <td>...</td>\n",
              "      <td>...</td>\n",
              "      <td>...</td>\n",
              "      <td>...</td>\n",
              "      <td>...</td>\n",
              "      <td>...</td>\n",
              "      <td>...</td>\n",
              "      <td>...</td>\n",
              "      <td>...</td>\n",
              "      <td>...</td>\n",
              "      <td>...</td>\n",
              "      <td>...</td>\n",
              "      <td>...</td>\n",
              "      <td>...</td>\n",
              "      <td>...</td>\n",
              "      <td>...</td>\n",
              "      <td>...</td>\n",
              "      <td>...</td>\n",
              "      <td>...</td>\n",
              "      <td>...</td>\n",
              "      <td>...</td>\n",
              "      <td>...</td>\n",
              "      <td>...</td>\n",
              "      <td>...</td>\n",
              "      <td>...</td>\n",
              "      <td>...</td>\n",
              "      <td>...</td>\n",
              "      <td>...</td>\n",
              "      <td>...</td>\n",
              "      <td>...</td>\n",
              "      <td>...</td>\n",
              "      <td>...</td>\n",
              "      <td>...</td>\n",
              "      <td>...</td>\n",
              "    </tr>\n",
              "    <tr>\n",
              "      <th>2</th>\n",
              "      <td>2.0</td>\n",
              "      <td>-0.040914</td>\n",
              "      <td>-0.122741</td>\n",
              "      <td>-0.061194</td>\n",
              "      <td>-0.001194</td>\n",
              "      <td>-0.071032</td>\n",
              "      <td>-0.145891</td>\n",
              "      <td>-0.062757</td>\n",
              "      <td>-2.837</td>\n",
              "      <td>0.001023</td>\n",
              "      <td>-2.042013e-05</td>\n",
              "      <td>0.001654</td>\n",
              "      <td>-0.073723</td>\n",
              "      <td>0.125340</td>\n",
              "      <td>0.001497</td>\n",
              "      <td>-0.001432</td>\n",
              "      <td>-0.000123</td>\n",
              "      <td>-0.363432</td>\n",
              "      <td>-0.143126</td>\n",
              "      <td>-0.290350</td>\n",
              "      <td>-0.145076</td>\n",
              "      <td>-0.511471</td>\n",
              "      <td>0.062605</td>\n",
              "      <td>-0.479509</td>\n",
              "      <td>-0.180511</td>\n",
              "      <td>-0.147150</td>\n",
              "      <td>-0.071723</td>\n",
              "      <td>0.190310</td>\n",
              "      <td>0.062757</td>\n",
              "      <td>-0.239141</td>\n",
              "      <td>-0.059816</td>\n",
              "      <td>-2.435943</td>\n",
              "      <td>0.973981</td>\n",
              "      <td>10.205822</td>\n",
              "      <td>6.320866</td>\n",
              "      <td>13.118779</td>\n",
              "      <td>-3.013943</td>\n",
              "      <td>-9.646975</td>\n",
              "      <td>0.086787</td>\n",
              "      <td>-0.436172</td>\n",
              "      <td>5.791399</td>\n",
              "      <td>9.305998</td>\n",
              "      <td>3.860972</td>\n",
              "      <td>-7.504534</td>\n",
              "      <td>-1.488313</td>\n",
              "      <td>2.022997</td>\n",
              "      <td>-3.930984</td>\n",
              "      <td>8.337629</td>\n",
              "      <td>-0.951343</td>\n",
              "      <td>19.676665</td>\n",
              "      <td>8.322324</td>\n",
              "      <td>24.210628</td>\n",
              "      <td>abuse</td>\n",
              "      <td>1</td>\n",
              "      <td>3</td>\n",
              "    </tr>\n",
              "    <tr>\n",
              "      <th>3</th>\n",
              "      <td>3.0</td>\n",
              "      <td>0.034365</td>\n",
              "      <td>0.034365</td>\n",
              "      <td>0.000142</td>\n",
              "      <td>-0.080848</td>\n",
              "      <td>-0.351669</td>\n",
              "      <td>-0.234233</td>\n",
              "      <td>-0.082720</td>\n",
              "      <td>-0.027</td>\n",
              "      <td>-0.001718</td>\n",
              "      <td>-2.762732e-03</td>\n",
              "      <td>0.229332</td>\n",
              "      <td>-0.115642</td>\n",
              "      <td>-0.167425</td>\n",
              "      <td>0.078268</td>\n",
              "      <td>-0.094503</td>\n",
              "      <td>0.000481</td>\n",
              "      <td>-0.001594</td>\n",
              "      <td>-0.000638</td>\n",
              "      <td>-0.115961</td>\n",
              "      <td>-0.000239</td>\n",
              "      <td>-0.249266</td>\n",
              "      <td>0.004225</td>\n",
              "      <td>-0.003436</td>\n",
              "      <td>-0.197562</td>\n",
              "      <td>-0.113172</td>\n",
              "      <td>-0.000757</td>\n",
              "      <td>-0.165327</td>\n",
              "      <td>-0.081245</td>\n",
              "      <td>-0.100345</td>\n",
              "      <td>0.098386</td>\n",
              "      <td>-2.295363</td>\n",
              "      <td>0.882458</td>\n",
              "      <td>9.264954</td>\n",
              "      <td>5.739651</td>\n",
              "      <td>11.828854</td>\n",
              "      <td>-2.650643</td>\n",
              "      <td>-11.170444</td>\n",
              "      <td>0.002751</td>\n",
              "      <td>-0.412363</td>\n",
              "      <td>6.667397</td>\n",
              "      <td>10.966631</td>\n",
              "      <td>4.310797</td>\n",
              "      <td>-13.386859</td>\n",
              "      <td>-2.760821</td>\n",
              "      <td>3.615718</td>\n",
              "      <td>-7.013930</td>\n",
              "      <td>14.877738</td>\n",
              "      <td>-1.594036</td>\n",
              "      <td>13.077897</td>\n",
              "      <td>5.494821</td>\n",
              "      <td>15.978373</td>\n",
              "      <td>abuse</td>\n",
              "      <td>1</td>\n",
              "      <td>4</td>\n",
              "    </tr>\n",
              "    <tr>\n",
              "      <th>4</th>\n",
              "      <td>4.0</td>\n",
              "      <td>0.072875</td>\n",
              "      <td>0.024292</td>\n",
              "      <td>0.042946</td>\n",
              "      <td>-0.002074</td>\n",
              "      <td>-0.082392</td>\n",
              "      <td>-0.041189</td>\n",
              "      <td>-0.136655</td>\n",
              "      <td>-0.194</td>\n",
              "      <td>-0.071174</td>\n",
              "      <td>-5.186235e-05</td>\n",
              "      <td>0.084688</td>\n",
              "      <td>-0.042059</td>\n",
              "      <td>0.136301</td>\n",
              "      <td>-0.044420</td>\n",
              "      <td>0.067774</td>\n",
              "      <td>0.000996</td>\n",
              "      <td>-0.293799</td>\n",
              "      <td>0.000499</td>\n",
              "      <td>-0.294797</td>\n",
              "      <td>0.042016</td>\n",
              "      <td>-0.135933</td>\n",
              "      <td>-0.044850</td>\n",
              "      <td>-0.068988</td>\n",
              "      <td>-0.002745</td>\n",
              "      <td>-0.252439</td>\n",
              "      <td>0.000913</td>\n",
              "      <td>0.361259</td>\n",
              "      <td>0.223805</td>\n",
              "      <td>0.213766</td>\n",
              "      <td>0.001846</td>\n",
              "      <td>-2.017649</td>\n",
              "      <td>0.859286</td>\n",
              "      <td>8.010404</td>\n",
              "      <td>5.056078</td>\n",
              "      <td>10.420136</td>\n",
              "      <td>-2.330359</td>\n",
              "      <td>-10.035251</td>\n",
              "      <td>-0.004011</td>\n",
              "      <td>0.097934</td>\n",
              "      <td>6.391942</td>\n",
              "      <td>11.021408</td>\n",
              "      <td>4.131173</td>\n",
              "      <td>-4.687886</td>\n",
              "      <td>-1.032362</td>\n",
              "      <td>1.669195</td>\n",
              "      <td>-2.662623</td>\n",
              "      <td>5.962646</td>\n",
              "      <td>-0.634969</td>\n",
              "      <td>19.187390</td>\n",
              "      <td>8.030021</td>\n",
              "      <td>23.798102</td>\n",
              "      <td>abuse</td>\n",
              "      <td>1</td>\n",
              "      <td>5</td>\n",
              "    </tr>\n",
              "    <tr>\n",
              "      <th>5</th>\n",
              "      <td>5.0</td>\n",
              "      <td>0.071555</td>\n",
              "      <td>-0.014311</td>\n",
              "      <td>-0.037187</td>\n",
              "      <td>0.000784</td>\n",
              "      <td>-0.001581</td>\n",
              "      <td>0.000445</td>\n",
              "      <td>0.077600</td>\n",
              "      <td>2.966</td>\n",
              "      <td>0.042790</td>\n",
              "      <td>1.900627e-07</td>\n",
              "      <td>0.048619</td>\n",
              "      <td>0.048042</td>\n",
              "      <td>0.155586</td>\n",
              "      <td>0.001182</td>\n",
              "      <td>0.042933</td>\n",
              "      <td>0.000987</td>\n",
              "      <td>0.048257</td>\n",
              "      <td>0.094998</td>\n",
              "      <td>0.000000</td>\n",
              "      <td>0.144391</td>\n",
              "      <td>-0.234275</td>\n",
              "      <td>0.036841</td>\n",
              "      <td>0.293804</td>\n",
              "      <td>0.126051</td>\n",
              "      <td>0.001318</td>\n",
              "      <td>0.048158</td>\n",
              "      <td>-0.391123</td>\n",
              "      <td>-0.155599</td>\n",
              "      <td>-0.295092</td>\n",
              "      <td>-0.085537</td>\n",
              "      <td>-1.755203</td>\n",
              "      <td>0.800670</td>\n",
              "      <td>8.357434</td>\n",
              "      <td>5.174691</td>\n",
              "      <td>10.824715</td>\n",
              "      <td>-2.385481</td>\n",
              "      <td>-4.456582</td>\n",
              "      <td>-0.043887</td>\n",
              "      <td>0.085863</td>\n",
              "      <td>2.768669</td>\n",
              "      <td>5.148690</td>\n",
              "      <td>1.903702</td>\n",
              "      <td>-5.510989</td>\n",
              "      <td>-1.434102</td>\n",
              "      <td>2.061418</td>\n",
              "      <td>-3.351987</td>\n",
              "      <td>6.853483</td>\n",
              "      <td>-1.005666</td>\n",
              "      <td>13.042132</td>\n",
              "      <td>5.641117</td>\n",
              "      <td>16.224152</td>\n",
              "      <td>abuse</td>\n",
              "      <td>1</td>\n",
              "      <td>6</td>\n",
              "    </tr>\n",
              "    <tr>\n",
              "      <th>6</th>\n",
              "      <td>6.0</td>\n",
              "      <td>0.085793</td>\n",
              "      <td>-0.010724</td>\n",
              "      <td>0.018089</td>\n",
              "      <td>-0.037433</td>\n",
              "      <td>-0.000723</td>\n",
              "      <td>-0.001817</td>\n",
              "      <td>-0.112964</td>\n",
              "      <td>-5.772</td>\n",
              "      <td>-0.064452</td>\n",
              "      <td>-7.894124e-06</td>\n",
              "      <td>0.021524</td>\n",
              "      <td>-0.000321</td>\n",
              "      <td>-0.018595</td>\n",
              "      <td>-0.000198</td>\n",
              "      <td>0.001072</td>\n",
              "      <td>0.000536</td>\n",
              "      <td>0.085908</td>\n",
              "      <td>-0.020838</td>\n",
              "      <td>0.064887</td>\n",
              "      <td>-0.020780</td>\n",
              "      <td>0.565011</td>\n",
              "      <td>0.094888</td>\n",
              "      <td>0.568379</td>\n",
              "      <td>-0.093954</td>\n",
              "      <td>0.085251</td>\n",
              "      <td>-0.021247</td>\n",
              "      <td>0.320367</td>\n",
              "      <td>0.113386</td>\n",
              "      <td>0.284190</td>\n",
              "      <td>0.031904</td>\n",
              "      <td>-1.153464</td>\n",
              "      <td>0.748492</td>\n",
              "      <td>5.879177</td>\n",
              "      <td>3.859704</td>\n",
              "      <td>7.785620</td>\n",
              "      <td>-1.611974</td>\n",
              "      <td>-2.011544</td>\n",
              "      <td>-0.038184</td>\n",
              "      <td>-0.076407</td>\n",
              "      <td>1.232241</td>\n",
              "      <td>2.524409</td>\n",
              "      <td>0.797158</td>\n",
              "      <td>-4.220631</td>\n",
              "      <td>-1.028189</td>\n",
              "      <td>1.468877</td>\n",
              "      <td>-2.530568</td>\n",
              "      <td>5.467425</td>\n",
              "      <td>-0.697470</td>\n",
              "      <td>8.930903</td>\n",
              "      <td>3.950994</td>\n",
              "      <td>11.351935</td>\n",
              "      <td>abuse</td>\n",
              "      <td>1</td>\n",
              "      <td>7</td>\n",
              "    </tr>\n",
              "  </tbody>\n",
              "</table>\n",
              "<p>100 rows × 55 columns</p>\n",
              "</div>"
            ],
            "text/plain": [
              "      0         1         2         3  ...         51  activity  video_num  frame\n",
              "0   0.0  0.000000  0.000000 -0.069552  ...   0.000000     abuse          0      1\n",
              "1   1.0  0.000000  0.000000  0.298945  ...   0.000000     abuse          0      2\n",
              "2   2.0  0.000000  0.000000 -0.078174  ...   0.000000     abuse          0      3\n",
              "3   3.0  0.000000  0.000000 -0.087218  ...   0.000000     abuse          0      4\n",
              "4   4.0  0.000000  0.000000 -0.065450  ...   0.000000     abuse          0      5\n",
              "..  ...       ...       ...       ...  ...        ...       ...        ...    ...\n",
              "2   2.0 -0.040914 -0.122741 -0.061194  ...  24.210628     abuse          1      3\n",
              "3   3.0  0.034365  0.034365  0.000142  ...  15.978373     abuse          1      4\n",
              "4   4.0  0.072875  0.024292  0.042946  ...  23.798102     abuse          1      5\n",
              "5   5.0  0.071555 -0.014311 -0.037187  ...  16.224152     abuse          1      6\n",
              "6   6.0  0.085793 -0.010724  0.018089  ...  11.351935     abuse          1      7\n",
              "\n",
              "[100 rows x 55 columns]"
            ]
          },
          "metadata": {},
          "execution_count": 3
        }
      ]
    },
    {
      "cell_type": "markdown",
      "metadata": {
        "id": "rPtbcBwVnVYM"
      },
      "source": [
        "데이터 불러오는 코드 작성- > 데이터 np.float64"
      ]
    },
    {
      "cell_type": "code",
      "metadata": {
        "id": "jHBAslVU_I-I"
      },
      "source": [
        "# input.rename(columns = {\n",
        "#                 'd_vector_1_x', 'd_vector_1_y',\n",
        "#                 'd_vector_2_x', 'd_vector_2_y',\n",
        "#                 'd_vector_3_x', 'd_vector_3_y',\n",
        "#                 'd_vector_4_x', 'd_vector_4_y',\n",
        "#                 'd_vector_5_x', 'd_vector_5_y',\n",
        "#                 'd_vector_6_x', 'd_vector_6_y',\n",
        "#                 'd_vector_7_x', 'd_vector_7_y',\n",
        "#                 'd_vector_8_x', 'd_vector_8_y',\n",
        "#                 'd_vector_9_x', 'd_vector_9_y',\n",
        "#                 'd_vector_10_x', 'd_vector_10_y',\n",
        "#                 'd_vector_11_x', 'd_vector_11_y',\n",
        "#                 'd_vector_12_x', 'd_vector_12_y',\n",
        "#                 'd_vector_13_x', 'd_vector_13_y',\n",
        "#                 'd_vector_14_x', 'd_vector_14_y',\n",
        "#                 'r_vector_1_x', 'r_vector_1_y',\n",
        "#                 'r_vector_2_x', 'r_vector_2_y',\n",
        "#                 'r_vector_3_x', 'r_vector_3_y',\n",
        "#                 'r_vector_4_x', 'r_vector_4_y',\n",
        "#                 'r_vector_5_x', 'r_vector_5_y',\n",
        "#                 'r_vector_6_x', 'r_vector_6_y',\n",
        "#                 'r_vector_7_x', 'r_vector_7_y',\n",
        "#                 'r_vector_8_x', 'r_vector_8_y',\n",
        "#                 'r_vector_9_x', 'r_vector_9_y',\n",
        "#                 'r_vector_10_x', 'r_vector_10_y',\n",
        "#                 'r_vector_11_x', 'r_vector_11_y',\n",
        "#                 'activity','video_num','frame'\n",
        "#                 })\n",
        "                \n",
        "\n",
        "input.dropna(axis=0, how='any', inplace=True)"
      ],
      "execution_count": null,
      "outputs": []
    },
    {
      "cell_type": "code",
      "metadata": {
        "id": "2IDoUdaoAZS1",
        "colab": {
          "base_uri": "https://localhost:8080/",
          "height": 295
        },
        "outputId": "ca99aa42-b955-405a-c9e6-6efbe10b3f75"
      },
      "source": [
        "sns.countplot(x = 'activity',\n",
        "              data = input,\n",
        "              order = input.activity.value_counts().index);"
      ],
      "execution_count": null,
      "outputs": [
        {
          "output_type": "display_data",
          "data": {
            "image/png": "[encoded data removed]",
            "text/plain": [
              "<Figure size 432x288 with 1 Axes>"
            ]
          },
          "metadata": {
            "image/png": {
              "width": 432,
              "height": 278
            },
            "needs_background": "light"
          }
        }
      ]
    },
    {
      "cell_type": "code",
      "metadata": {
        "colab": {
          "base_uri": "https://localhost:8080/"
        },
        "id": "Jv-FLRYWU6iO",
        "outputId": "1f8cfab8-1b5a-4113-8477-ab69113fe703"
      },
      "source": [
        "print(count)"
      ],
      "execution_count": null,
      "outputs": [
        {
          "output_type": "stream",
          "name": "stdout",
          "text": [
            "1695\n"
          ]
        }
      ]
    },
    {
      "cell_type": "code",
      "metadata": {
        "id": "pQeh9amcBlcf"
      },
      "source": [
        "# 비디오 수 보고 다시 판단\n",
        "df_train = input[input['video_num'] <= 1360]\n",
        "df_test = input[input['video_num'] > 1360]"
      ],
      "execution_count": null,
      "outputs": []
    },
    {
      "cell_type": "code",
      "metadata": {
        "id": "KTyqjXYzZFLH",
        "colab": {
          "base_uri": "https://localhost:8080/"
        },
        "outputId": "6acb9216-bcd6-4950-bdd8-5565201f1c1d"
      },
      "source": [
        "# scale_columns = [ 'd_vector_1_x', 'd_vector_1_y',\n",
        "#                 'd_vector_2_x', 'd_vector_2_y',\n",
        "#                 'd_vector_3_x', 'd_vector_3_y',\n",
        "#                 'd_vector_4_x', 'd_vector_4_y',\n",
        "#                 'd_vector_5_x', 'd_vector_5_y',\n",
        "#                 'd_vector_6_x', 'd_vector_6_y',\n",
        "#                 'd_vector_7_x', 'd_vector_7_y',\n",
        "#                 'd_vector_8_x', 'd_vector_8_y',\n",
        "#                 'd_vector_9_x', 'd_vector_9_y',\n",
        "#                 'd_vector_10_x', 'd_vector_10_y',\n",
        "#                 'd_vector_11_x', 'd_vector_11_y',\n",
        "#                 'd_vector_12_x', 'd_vector_12_y',\n",
        "#                 'd_vector_13_x', 'd_vector_13_y',\n",
        "#                 'd_vector_14_x', 'd_vector_14_y',\n",
        "#                 'r_vector_1_x', 'r_vector_1_y',\n",
        "#                 'r_vector_2_x', 'r_vector_2_y',\n",
        "#                 'r_vector_3_x', 'r_vector_3_y',\n",
        "#                 'r_vector_4_x', 'r_vector_4_y',\n",
        "#                 'r_vector_5_x', 'r_vector_5_y',\n",
        "#                 'r_vector_6_x', 'r_vector_6_y',\n",
        "#                 'r_vector_7_x', 'r_vector_7_y',\n",
        "#                 'r_vector_8_x', 'r_vector_8_y',\n",
        "#                 'r_vector_9_x', 'r_vector_9_y',\n",
        "#                 'r_vector_10_x', 'r_vector_10_y',\n",
        "#                 'r_vector_11_x', 'r_vector_11_y'\n",
        "# ]\n",
        "from sklearn.preprocessing import RobustScaler\n",
        "\n",
        "scale_columns = [0,1,2,3,4,5,6,7,8,9,10,11,12,13,14,15,16,17,18,19,20,21,22,23,24,25,\n",
        "                 26,27,28,29,30,31,32,33,34,35,36,37,38,39,40,41,42,43,44,45,46,47,48,49,50,51]\n",
        "\n",
        "scaler = RobustScaler()\n",
        "\n",
        "scaler = scaler.fit(df_train[scale_columns])\n",
        "\n",
        "df_train.loc[:, scale_columns] = scaler.transform(\n",
        "  df_train[scale_columns].to_numpy()\n",
        ")\n",
        "\n",
        "df_test.loc[:, scale_columns] = scaler.transform(\n",
        "  df_test[scale_columns].to_numpy()\n",
        ")"
      ],
      "execution_count": null,
      "outputs": [
        {
          "output_type": "stream",
          "name": "stderr",
          "text": [
            "/usr/local/lib/python3.7/dist-packages/pandas/core/indexing.py:1734: SettingWithCopyWarning: \n",
            "A value is trying to be set on a copy of a slice from a DataFrame.\n",
            "Try using .loc[row_indexer,col_indexer] = value instead\n",
            "\n",
            "See the caveats in the documentation: https://pandas.pydata.org/pandas-docs/stable/user_guide/indexing.html#returning-a-view-versus-a-copy\n",
            "  isetter(loc, value[:, i].tolist())\n",
            "/usr/local/lib/python3.7/dist-packages/pandas/core/indexing.py:1734: SettingWithCopyWarning: \n",
            "A value is trying to be set on a copy of a slice from a DataFrame.\n",
            "Try using .loc[row_indexer,col_indexer] = value instead\n",
            "\n",
            "See the caveats in the documentation: https://pandas.pydata.org/pandas-docs/stable/user_guide/indexing.html#returning-a-view-versus-a-copy\n",
            "  isetter(loc, value[:, i].tolist())\n"
          ]
        }
      ]
    },
    {
      "cell_type": "code",
      "metadata": {
        "id": "hd7I0oQGENCj"
      },
      "source": [
        "def create_dataset(X, y, time_steps=1, step=1):\n",
        "    Xs, ys = [], []\n",
        "    for i in range(0, len(X) - time_steps, step):\n",
        "        v = X.iloc[i:(i + time_steps)].values\n",
        "        labels = y.iloc[i: i + time_steps]\n",
        "        Xs.append(v)\n",
        "        ys.append(stats.mode(labels)[0][0])\n",
        "    return np.array(Xs), np.array(ys).reshape(-1, 1)"
      ],
      "execution_count": null,
      "outputs": []
    },
    {
      "cell_type": "code",
      "metadata": {
        "id": "sPwmylm-dDqY"
      },
      "source": [
        "from scipy import stats\n",
        "TIME_STEPS = 40\n",
        "STEP =40 #window 부분 - 파라미터 조정하면서 봐야할듯....\n",
        "\n",
        "X_train, y_train = create_dataset(\n",
        "    df_train[[0,1,2,3,4,5,6,7,8,9,10,11,12,13,14,15,16,17,18,19,20,21,22,23,24,25,\n",
        "                 26,27,28,29,30,31,32,33,34,35,36,37,38,39,40,41,42,43,44,45,46,47,48,49,50,51]],\n",
        "    df_train.activity,\n",
        "    TIME_STEPS,\n",
        "    STEP\n",
        ")\n",
        "\n",
        "X_test, y_test = create_dataset(\n",
        "    df_test[[ 0,1,2,3,4,5,6,7,8,9,10,11,12,13,14,15,16,17,18,19,20,21,22,23,24,25,\n",
        "                 26,27,28,29,30,31,32,33,34,35,36,37,38,39,40,41,42,43,44,45,46,47,48,49,50,51]],\n",
        "    df_test.activity,\n",
        "    TIME_STEPS,\n",
        "    STEP\n",
        ")"
      ],
      "execution_count": null,
      "outputs": []
    },
    {
      "cell_type": "code",
      "metadata": {
        "id": "ANI74QkyFO-e",
        "colab": {
          "base_uri": "https://localhost:8080/"
        },
        "outputId": "ad013c76-8bb4-479e-9d12-395e0d2ba4dc"
      },
      "source": [
        "print(X_train.shape, y_train.shape)\n",
        "print(X_test.shape, y_test.shape)\n"
      ],
      "execution_count": null,
      "outputs": [
        {
          "output_type": "stream",
          "name": "stdout",
          "text": [
            "(3035, 40, 52) (3035, 1)\n",
            "(887, 40, 52) (887, 1)\n"
          ]
        }
      ]
    },
    {
      "cell_type": "code",
      "metadata": {
        "id": "9ETeP9mYkxdW"
      },
      "source": [
        "from sklearn.preprocessing import OneHotEncoder\n",
        "enc = OneHotEncoder(handle_unknown='ignore', sparse=False)\n",
        "\n",
        "enc = enc.fit(y_train)\n",
        "\n",
        "y_train = enc.transform(y_train)\n",
        "y_test = enc.transform(y_test)"
      ],
      "execution_count": null,
      "outputs": []
    },
    {
      "cell_type": "code",
      "metadata": {
        "id": "iNrcW4jyG4Bg"
      },
      "source": [
        "from keras import regularizers\n",
        "model = keras.Sequential()\n",
        "model.add(\n",
        "    keras.layers.Bidirectional(\n",
        "      keras.layers.LSTM(\n",
        "          units=64,\n",
        "          input_shape=[X_train.shape[1], X_train.shape[2]],\n",
        "          dropout = 0.5,\n",
        "          #kernel_regularizer=tf.keras.regularizers.l1(0.0001),\n",
        "          #activity_regularizer=tf.keras.regularizers.l2(0.0001),\n",
        "\n",
        "          return_sequences = True\n",
        "\n",
        "\n",
        "      )\n",
        "    )\n",
        "  \n",
        ")\n",
        "model.add(keras.layers.Bidirectional(keras.layers.LSTM(64,dropout = 0.5)))\n",
        "model.add(keras.layers.Dense(units=64, activation='relu'))\n",
        "model.add(keras.layers.Dense(y_train.shape[1], activation='sigmoid'))\n",
        "\n",
        "\n",
        "model.compile(\n",
        "  loss='categorical_crossentropy',\n",
        "  optimizer='adam',\n",
        "  metrics=['acc']\n",
        ")"
      ],
      "execution_count": null,
      "outputs": []
    },
    {
      "cell_type": "code",
      "metadata": {
        "id": "Ltf8Ckn7ckSm"
      },
      "source": [
        "def optimal_epoch(model_hist):\n",
        "    \n",
        "    min_epoch = np.argmin(model_hist.history['val_loss']) + 1\n",
        "    print(\"Minimum validation loss reached in epoch {}\".format(min_epoch))\n",
        "    return min_epoch\n"
      ],
      "execution_count": null,
      "outputs": []
    },
    {
      "cell_type": "code",
      "metadata": {
        "id": "FTI_QqxYG-m6",
        "colab": {
          "base_uri": "https://localhost:8080/"
        },
        "outputId": "c13f9011-9234-409b-b86e-bccd68fb4cc7"
      },
      "source": [
        "history = model.fit(\n",
        "    X_train, y_train,\n",
        "    epochs = 50,\n",
        "    batch_size=32,\n",
        "    validation_split=0.1,\n",
        "    shuffle=False\n",
        ")"
      ],
      "execution_count": null,
      "outputs": [
        {
          "output_type": "stream",
          "name": "stdout",
          "text": [
            "Epoch 1/50\n",
            "86/86 [==============================] - 15s 36ms/step - loss: 0.6623 - acc: 0.6104 - val_loss: 0.7011 - val_acc: 0.5559\n",
            "Epoch 2/50\n",
            "86/86 [==============================] - 1s 15ms/step - loss: 0.6306 - acc: 0.6525 - val_loss: 0.6515 - val_acc: 0.6217\n",
            "Epoch 3/50\n",
            "86/86 [==============================] - 1s 15ms/step - loss: 0.6116 - acc: 0.6609 - val_loss: 0.6082 - val_acc: 0.6875\n",
            "Epoch 4/50\n",
            "86/86 [==============================] - 1s 15ms/step - loss: 0.5603 - acc: 0.7118 - val_loss: 0.6146 - val_acc: 0.7336\n",
            "Epoch 5/50\n",
            "86/86 [==============================] - 1s 16ms/step - loss: 0.5548 - acc: 0.7107 - val_loss: 0.6268 - val_acc: 0.7237\n",
            "Epoch 6/50\n",
            "86/86 [==============================] - 1s 15ms/step - loss: 0.5068 - acc: 0.7517 - val_loss: 0.6510 - val_acc: 0.7204\n",
            "Epoch 7/50\n",
            "86/86 [==============================] - 1s 15ms/step - loss: 0.5133 - acc: 0.7510 - val_loss: 0.6208 - val_acc: 0.7237\n",
            "Epoch 8/50\n",
            "86/86 [==============================] - 1s 15ms/step - loss: 0.4985 - acc: 0.7543 - val_loss: 0.5990 - val_acc: 0.7138\n",
            "Epoch 9/50\n",
            "86/86 [==============================] - 1s 15ms/step - loss: 0.4740 - acc: 0.7660 - val_loss: 0.6743 - val_acc: 0.7434\n",
            "Epoch 10/50\n",
            "86/86 [==============================] - 1s 15ms/step - loss: 0.4512 - acc: 0.7840 - val_loss: 0.5846 - val_acc: 0.7533\n",
            "Epoch 11/50\n",
            "86/86 [==============================] - 1s 15ms/step - loss: 0.4446 - acc: 0.7887 - val_loss: 0.5325 - val_acc: 0.7467\n",
            "Epoch 12/50\n",
            "86/86 [==============================] - 1s 15ms/step - loss: 0.4264 - acc: 0.7971 - val_loss: 0.6488 - val_acc: 0.7533\n",
            "Epoch 13/50\n",
            "86/86 [==============================] - 1s 16ms/step - loss: 0.4374 - acc: 0.7924 - val_loss: 0.6019 - val_acc: 0.7434\n",
            "Epoch 14/50\n",
            "86/86 [==============================] - 1s 15ms/step - loss: 0.4075 - acc: 0.8125 - val_loss: 0.6063 - val_acc: 0.7368\n",
            "Epoch 15/50\n",
            "86/86 [==============================] - 1s 15ms/step - loss: 0.4055 - acc: 0.8085 - val_loss: 0.5914 - val_acc: 0.7303\n",
            "Epoch 16/50\n",
            "86/86 [==============================] - 1s 15ms/step - loss: 0.4138 - acc: 0.8111 - val_loss: 0.6103 - val_acc: 0.7434\n",
            "Epoch 17/50\n",
            "86/86 [==============================] - 1s 15ms/step - loss: 0.4032 - acc: 0.8217 - val_loss: 0.6029 - val_acc: 0.7730\n",
            "Epoch 18/50\n",
            "86/86 [==============================] - 1s 15ms/step - loss: 0.3893 - acc: 0.8217 - val_loss: 0.6258 - val_acc: 0.7533\n",
            "Epoch 19/50\n",
            "86/86 [==============================] - 1s 16ms/step - loss: 0.3811 - acc: 0.8301 - val_loss: 0.6192 - val_acc: 0.7500\n",
            "Epoch 20/50\n",
            "86/86 [==============================] - 1s 16ms/step - loss: 0.3777 - acc: 0.8268 - val_loss: 0.5855 - val_acc: 0.7434\n",
            "Epoch 21/50\n",
            "86/86 [==============================] - 1s 15ms/step - loss: 0.3901 - acc: 0.8250 - val_loss: 0.6634 - val_acc: 0.7566\n",
            "Epoch 22/50\n",
            "86/86 [==============================] - 1s 15ms/step - loss: 0.3557 - acc: 0.8393 - val_loss: 0.7030 - val_acc: 0.7599\n",
            "Epoch 23/50\n",
            "86/86 [==============================] - 1s 15ms/step - loss: 0.3856 - acc: 0.8279 - val_loss: 0.5894 - val_acc: 0.7500\n",
            "Epoch 24/50\n",
            "86/86 [==============================] - 1s 15ms/step - loss: 0.3589 - acc: 0.8440 - val_loss: 0.6099 - val_acc: 0.7632\n",
            "Epoch 25/50\n",
            "86/86 [==============================] - 1s 15ms/step - loss: 0.3489 - acc: 0.8469 - val_loss: 0.6527 - val_acc: 0.7533\n",
            "Epoch 26/50\n",
            "86/86 [==============================] - 1s 15ms/step - loss: 0.3503 - acc: 0.8440 - val_loss: 0.6405 - val_acc: 0.7566\n",
            "Epoch 27/50\n",
            "86/86 [==============================] - 1s 15ms/step - loss: 0.3502 - acc: 0.8455 - val_loss: 0.5767 - val_acc: 0.7796\n",
            "Epoch 28/50\n",
            "86/86 [==============================] - 1s 15ms/step - loss: 0.3434 - acc: 0.8469 - val_loss: 0.5881 - val_acc: 0.7796\n",
            "Epoch 29/50\n",
            "86/86 [==============================] - 1s 16ms/step - loss: 0.3373 - acc: 0.8554 - val_loss: 0.6166 - val_acc: 0.7664\n",
            "Epoch 30/50\n",
            "86/86 [==============================] - 1s 15ms/step - loss: 0.3422 - acc: 0.8407 - val_loss: 0.5704 - val_acc: 0.7763\n",
            "Epoch 31/50\n",
            "86/86 [==============================] - 1s 15ms/step - loss: 0.3332 - acc: 0.8488 - val_loss: 0.5312 - val_acc: 0.7895\n",
            "Epoch 32/50\n",
            "86/86 [==============================] - 1s 15ms/step - loss: 0.3110 - acc: 0.8583 - val_loss: 0.5873 - val_acc: 0.7566\n",
            "Epoch 33/50\n",
            "86/86 [==============================] - 1s 15ms/step - loss: 0.3297 - acc: 0.8550 - val_loss: 0.5573 - val_acc: 0.7697\n",
            "Epoch 34/50\n",
            "86/86 [==============================] - 1s 15ms/step - loss: 0.2933 - acc: 0.8715 - val_loss: 0.6408 - val_acc: 0.7632\n",
            "Epoch 35/50\n",
            "86/86 [==============================] - 1s 15ms/step - loss: 0.3240 - acc: 0.8554 - val_loss: 0.5557 - val_acc: 0.7664\n",
            "Epoch 36/50\n",
            "86/86 [==============================] - 1s 16ms/step - loss: 0.3091 - acc: 0.8693 - val_loss: 0.5742 - val_acc: 0.7730\n",
            "Epoch 37/50\n",
            "86/86 [==============================] - 1s 16ms/step - loss: 0.3051 - acc: 0.8601 - val_loss: 0.5867 - val_acc: 0.7895\n",
            "Epoch 38/50\n",
            "86/86 [==============================] - 1s 16ms/step - loss: 0.3040 - acc: 0.8649 - val_loss: 0.5413 - val_acc: 0.7829\n",
            "Epoch 39/50\n",
            "86/86 [==============================] - 1s 15ms/step - loss: 0.2873 - acc: 0.8777 - val_loss: 0.5739 - val_acc: 0.7796\n",
            "Epoch 40/50\n",
            "86/86 [==============================] - 1s 15ms/step - loss: 0.2870 - acc: 0.8799 - val_loss: 0.5738 - val_acc: 0.7730\n",
            "Epoch 41/50\n",
            "86/86 [==============================] - 1s 16ms/step - loss: 0.2763 - acc: 0.8806 - val_loss: 0.6110 - val_acc: 0.7763\n",
            "Epoch 42/50\n",
            "86/86 [==============================] - 1s 15ms/step - loss: 0.2962 - acc: 0.8722 - val_loss: 0.6338 - val_acc: 0.7632\n",
            "Epoch 43/50\n",
            "86/86 [==============================] - 1s 15ms/step - loss: 0.2801 - acc: 0.8751 - val_loss: 0.5553 - val_acc: 0.7862\n",
            "Epoch 44/50\n",
            "86/86 [==============================] - 1s 16ms/step - loss: 0.2703 - acc: 0.8817 - val_loss: 0.5631 - val_acc: 0.8125\n",
            "Epoch 45/50\n",
            "86/86 [==============================] - 1s 15ms/step - loss: 0.2731 - acc: 0.8803 - val_loss: 0.5674 - val_acc: 0.7961\n",
            "Epoch 46/50\n",
            "86/86 [==============================] - 1s 15ms/step - loss: 0.2809 - acc: 0.8858 - val_loss: 0.5718 - val_acc: 0.7829\n",
            "Epoch 47/50\n",
            "86/86 [==============================] - 1s 15ms/step - loss: 0.2555 - acc: 0.8869 - val_loss: 0.6449 - val_acc: 0.7796\n",
            "Epoch 48/50\n",
            "86/86 [==============================] - 1s 15ms/step - loss: 0.2564 - acc: 0.8920 - val_loss: 0.5239 - val_acc: 0.7993\n",
            "Epoch 49/50\n",
            "86/86 [==============================] - 1s 15ms/step - loss: 0.2643 - acc: 0.8858 - val_loss: 0.5487 - val_acc: 0.7829\n",
            "Epoch 50/50\n",
            "86/86 [==============================] - 1s 15ms/step - loss: 0.2462 - acc: 0.8931 - val_loss: 0.6471 - val_acc: 0.7961\n"
          ]
        }
      ]
    },
    {
      "cell_type": "code",
      "metadata": {
        "colab": {
          "base_uri": "https://localhost:8080/"
        },
        "id": "G1u-TlfAkYCj",
        "outputId": "fa4c5595-cf05-40d9-bbaa-a06f32e911b0"
      },
      "source": [
        "rop_min = optimal_epoch(history)"
      ],
      "execution_count": null,
      "outputs": [
        {
          "output_type": "stream",
          "name": "stdout",
          "text": [
            "Minimum validation loss reached in epoch 48\n"
          ]
        }
      ]
    },
    {
      "cell_type": "code",
      "metadata": {
        "id": "omyXhAixf-OI",
        "colab": {
          "base_uri": "https://localhost:8080/"
        },
        "outputId": "5924b675-e65c-469e-e31f-fe2d0cf0d093"
      },
      "source": [
        "print(\"[test data]\")\n",
        "print(\"val_acc = \",max(history.history['val_acc']))\n",
        "print(\"score = \" ,max(history.history['val_acc']) *100)"
      ],
      "execution_count": null,
      "outputs": [
        {
          "output_type": "stream",
          "name": "stdout",
          "text": [
            "[test data]\n",
            "val_acc =  0.8125\n",
            "score =  81.25\n"
          ]
        }
      ]
    },
    {
      "cell_type": "code",
      "metadata": {
        "colab": {
          "base_uri": "https://localhost:8080/",
          "height": 274
        },
        "id": "o1jJ2VMJQ_Xm",
        "outputId": "008f665a-1cdc-4460-99cb-1485e38df33a"
      },
      "source": [
        "#plt.plot(history.history['acc'], label='train')\n",
        "plt.plot(history.history['val_acc'], label='test')\n",
        "plt.legend();"
      ],
      "execution_count": null,
      "outputs": [
        {
          "output_type": "display_data",
          "data": {
            "image/png": "[encoded data removed]",
            "text/plain": [
              "<Figure size 432x288 with 1 Axes>"
            ]
          },
          "metadata": {
            "image/png": {
              "width": 396,
              "height": 257
            },
            "needs_background": "light"
          }
        }
      ]
    },
    {
      "cell_type": "code",
      "metadata": {
        "id": "Tf3d4ckpHeMB"
      },
      "source": [
        "from keras.models import load_model\n",
        "\n",
        "model.save('final_model.h5')"
      ],
      "execution_count": null,
      "outputs": []
    },
    {
      "cell_type": "code",
      "metadata": {
        "colab": {
          "base_uri": "https://localhost:8080/"
        },
        "id": "MVeFTwbWC2wj",
        "outputId": "b6bace7c-6d11-44f6-b500-4de1582038ec"
      },
      "source": [
        "print(X_test.shape)"
      ],
      "execution_count": null,
      "outputs": [
        {
          "output_type": "stream",
          "name": "stdout",
          "text": [
            "(887, 40, 52)\n"
          ]
        }
      ]
    },
    {
      "cell_type": "code",
      "metadata": {
        "id": "HruRrnO9Bl1U"
      },
      "source": [
        "new_model = tf.keras.models.load_model('/content/drive/MyDrive/final_model.h5')"
      ],
      "execution_count": null,
      "outputs": []
    },
    {
      "cell_type": "code",
      "metadata": {
        "colab": {
          "base_uri": "https://localhost:8080/"
        },
        "id": "HjgDbxmHBPiM",
        "outputId": "0a54482d-1b23-436b-e48e-88c3f3930a00"
      },
      "source": [
        " new_model.evaluate(X_test,  y_test)"
      ],
      "execution_count": null,
      "outputs": [
        {
          "output_type": "stream",
          "name": "stdout",
          "text": [
            "28/28 [==============================] - 2s 7ms/step - loss: 0.4944 - acc: 0.8117\n"
          ]
        },
        {
          "output_type": "execute_result",
          "data": {
            "text/plain": [
              "[0.4943791329860687, 0.8117249011993408]"
            ]
          },
          "metadata": {},
          "execution_count": 27
        }
      ]
    },
    {
      "cell_type": "code",
      "metadata": {
        "colab": {
          "base_uri": "https://localhost:8080/"
        },
        "id": "NloLK5OTB-dL",
        "outputId": "5f34d44f-a458-4901-9407-87d844d2749e"
      },
      "source": [
        "new_model.predict(X_test)"
      ],
      "execution_count": null,
      "outputs": [
        {
          "output_type": "execute_result",
          "data": {
            "text/plain": [
              "array([[0.9777869 , 0.02010572],\n",
              "       [0.9837679 , 0.01142741],\n",
              "       [0.99463767, 0.01266874],\n",
              "       ...,\n",
              "       [0.2515903 , 0.627149  ],\n",
              "       [0.02743033, 0.93128484],\n",
              "       [0.294968  , 0.51904887]], dtype=float32)"
            ]
          },
          "metadata": {},
          "execution_count": 28
        }
      ]
    },
    {
      "cell_type": "code",
      "metadata": {
        "id": "x3Zg7V2qVgxO",
        "colab": {
          "base_uri": "https://localhost:8080/"
        },
        "outputId": "6f4108b3-0fdd-499c-8f80-c8a51929e52f"
      },
      "source": [
        "model.evaluate(X_test, y_test)"
      ],
      "execution_count": null,
      "outputs": [
        {
          "output_type": "stream",
          "name": "stdout",
          "text": [
            "28/28 [==============================] - 0s 8ms/step - loss: 0.5205 - acc: 0.8106\n"
          ]
        },
        {
          "output_type": "execute_result",
          "data": {
            "text/plain": [
              "[0.5204739570617676, 0.8105975389480591]"
            ]
          },
          "metadata": {},
          "execution_count": 122
        }
      ]
    },
    {
      "cell_type": "markdown",
      "metadata": {
        "id": "i9Vj4T99pr-T"
      },
      "source": [
        "heatmap 출력"
      ]
    },
    {
      "cell_type": "code",
      "metadata": {
        "id": "qK4txNm-VqLl"
      },
      "source": [
        "from sklearn.metrics import confusion_matrix\n",
        "\n",
        "def plot_cm(y_true, y_pred, class_names):\n",
        "  cm = confusion_matrix(y_true, y_pred)\n",
        "  fig, ax = plt.subplots(figsize=(18, 16)) \n",
        "  ax = sns.heatmap(\n",
        "      cm, \n",
        "      annot=True, \n",
        "      fmt=\"d\", \n",
        "      cmap=sns.diverging_palette(220, 20, n=7),\n",
        "      ax=ax\n",
        "  )\n",
        "\n",
        "  plt.ylabel('Actual')\n",
        "  plt.xlabel('Predicted')\n",
        "  ax.set_xticklabels(class_names)\n",
        "  ax.set_yticklabels(class_names)\n",
        "  b, t = plt.ylim() \n",
        "  b += 0.5 \n",
        "  t -= 0.5 \n",
        "  plt.ylim(b, t) \n",
        "  plt.show() "
      ],
      "execution_count": null,
      "outputs": []
    },
    {
      "cell_type": "code",
      "metadata": {
        "id": "Mqp65KYQTe_S"
      },
      "source": [
        ""
      ],
      "execution_count": null,
      "outputs": []
    }
  ]
}