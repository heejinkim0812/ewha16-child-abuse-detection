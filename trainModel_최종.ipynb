{
  "nbformat": 4,
  "nbformat_minor": 0,
  "metadata": {
    "colab": {
      "name": "trainModel_최종.ipynb",
      "provenance": [],
      "collapsed_sections": []
    },
    "kernelspec": {
      "name": "python3",
      "display_name": "Python 3"
    },
    "accelerator": "GPU"
  },
  "cells": [
    {
      "cell_type": "code",
      "metadata": {
        "id": "W71I_JqTu29i"
      },
      "source": [
        "import numpy as np\n",
        "import tensorflow as tf\n",
        "from tensorflow import keras\n",
        "import pandas as pd\n",
        "import seaborn as sns\n",
        "from pylab import rcParams\n",
        "import matplotlib.pyplot as plt\n",
        "from matplotlib import rc\n",
        "from pandas.plotting import register_matplotlib_converters\n",
        "\n",
        "%matplotlib inline\n",
        "%config InlineBackend.figure_format='retina'\n",
        "\n",
        "register_matplotlib_converters()\n",
        "sns.set(style='whitegrid', palette='muted', font_scale=1.5)\n",
        "\n",
        "rcParams['figure.figsize'] = 22, 10\n",
        "\n",
        "RANDOM_SEED = 42\n",
        "\n",
        "np.random.seed(RANDOM_SEED)\n",
        "tf.random.set_seed(RANDOM_SEED)"
      ],
      "execution_count": null,
      "outputs": []
    },
    {
      "cell_type": "markdown",
      "metadata": {
        "id": "rPtbcBwVnVYM"
      },
      "source": [
        "데이터 불러오는 코드 작성- > 데이터 np.float64"
      ]
    },
    {
      "cell_type": "code",
      "metadata": {
        "id": "jHBAslVU_I-I"
      },
      "source": [
        "column_names = ['video_id', 'activity', 'frame', \n",
        "                'd_vector_1_x', 'd_vector_1_y',\n",
        "                'd_vector_2_x', 'd_vector_2_y',\n",
        "                'd_vector_3_x', 'd_vector_3_y',\n",
        "                'd_vector_4_x', 'd_vector_4_y',\n",
        "                'd_vector_5_x', 'd_vector_5_y',\n",
        "                'd_vector_6_x', 'd_vector_6_y',\n",
        "                'd_vector_7_x', 'd_vector_7_y',\n",
        "                'd_vector_8_x', 'd_vector_8_y',\n",
        "                'd_vector_9_x', 'd_vector_9_y',\n",
        "                'd_vector_10_x', 'd_vector_10_y',\n",
        "                'd_vector_11_x', 'd_vector_11_y',\n",
        "                'd_vector_12_x', 'd_vector_12_y',\n",
        "                'd_vector_13_x', 'd_vector_13_y',\n",
        "                'd_vector_14_x', 'd_vector_14_y',\n",
        "                'r_vector_1_x', 'r_vector_1_y',\n",
        "                'r_vector_2_x', 'r_vector_2_y',\n",
        "                'r_vector_3_x', 'r_vector_3_y',\n",
        "                'r_vector_4_x', 'r_vector_4_y',\n",
        "                'r_vector_5_x', 'r_vector_5_y',\n",
        "                'r_vector_6_x', 'r_vector_6_y',\n",
        "                'r_vector_7_x', 'r_vector_7_y',\n",
        "                'r_vector_8_x', 'r_vector_8_y',\n",
        "                'r_vector_9_x', 'r_vector_9_y',\n",
        "                'r_vector_10_x', 'r_vector_10_y',\n",
        "                'r_vector_11_x', 'r_vector_11_y',\n",
        "\n",
        "                ]\n",
        "\n",
        "df = pd.read_csv('데이터 path', header=None, names=column_names)\n",
        "\n",
        "df.dropna(axis=0, how='any', inplace=True)"
      ],
      "execution_count": null,
      "outputs": []
    },
    {
      "cell_type": "code",
      "metadata": {
        "id": "2IDoUdaoAZS1"
      },
      "source": [
        "sns.countplot(x = 'activity',\n",
        "              data = df,\n",
        "              order = df.activity.value_counts().index);"
      ],
      "execution_count": null,
      "outputs": []
    },
    {
      "cell_type": "code",
      "metadata": {
        "id": "Uv_SbLNuAea4"
      },
      "source": [
        "sns.countplot(x = 'video_id',\n",
        "              data = df,\n",
        "              palette=[sns.color_palette()[0]],\n",
        "              order = df.user_id.value_counts().index);\n",
        "plt.title(\"Records per user\");"
      ],
      "execution_count": null,
      "outputs": []
    },
    {
      "cell_type": "code",
      "metadata": {
        "id": "pQeh9amcBlcf"
      },
      "source": [
        "# 비디오 수 보고 다시 판단\n",
        "df_train = df[df['video_id'] <= 330]\n",
        "df_test = df[df['video_id'] > 330]"
      ],
      "execution_count": null,
      "outputs": []
    },
    {
      "cell_type": "code",
      "metadata": {
        "id": "KTyqjXYzZFLH"
      },
      "source": [
        "scale_columns = [ 'd_vector_1_x', 'd_vector_1_y',\n",
        "                'd_vector_2_x', 'd_vector_2_y',\n",
        "                'd_vector_3_x', 'd_vector_3_y',\n",
        "                'd_vector_4_x', 'd_vector_4_y',\n",
        "                'd_vector_5_x', 'd_vector_5_y',\n",
        "                'd_vector_6_x', 'd_vector_6_y',\n",
        "                'd_vector_7_x', 'd_vector_7_y',\n",
        "                'd_vector_8_x', 'd_vector_8_y',\n",
        "                'd_vector_9_x', 'd_vector_9_y',\n",
        "                'd_vector_10_x', 'd_vector_10_y',\n",
        "                'd_vector_11_x', 'd_vector_11_y',\n",
        "                'd_vector_12_x', 'd_vector_12_y',\n",
        "                'd_vector_13_x', 'd_vector_13_y',\n",
        "                'd_vector_14_x', 'd_vector_14_y',\n",
        "                'r_vector_1_x', 'r_vector_1_y',\n",
        "                'r_vector_2_x', 'r_vector_2_y',\n",
        "                'r_vector_3_x', 'r_vector_3_y',\n",
        "                'r_vector_4_x', 'r_vector_4_y',\n",
        "                'r_vector_5_x', 'r_vector_5_y',\n",
        "                'r_vector_6_x', 'r_vector_6_y',\n",
        "                'r_vector_7_x', 'r_vector_7_y',\n",
        "                'r_vector_8_x', 'r_vector_8_y',\n",
        "                'r_vector_9_x', 'r_vector_9_y',\n",
        "                'r_vector_10_x', 'r_vector_10_y',\n",
        "                'r_vector_11_x', 'r_vector_11_y'\n",
        "]\n",
        "\n",
        "scaler = RobustScaler()\n",
        "\n",
        "scaler = scaler.fit(df_train[scale_columns])\n",
        "\n",
        "df_train.loc[:, scale_columns] = scaler.transform(\n",
        "  df_train[scale_columns].to_numpy()\n",
        ")\n",
        "\n",
        "df_test.loc[:, scale_columns] = scaler.transform(\n",
        "  df_test[scale_columns].to_numpy()\n",
        ")"
      ],
      "execution_count": null,
      "outputs": []
    },
    {
      "cell_type": "code",
      "metadata": {
        "id": "hd7I0oQGENCj"
      },
      "source": [
        "def create_dataset(X, y, time_steps=1, step=1):\n",
        "    Xs, ys = [], []\n",
        "    for i in range(0, len(X) - time_steps, step):\n",
        "        v = X.iloc[i:(i + time_steps)].values\n",
        "        labels = y.iloc[i: i + time_steps]\n",
        "        Xs.append(v)\n",
        "        ys.append(stats.mode(labels)[0][0])\n",
        "    return np.array(Xs), np.array(ys).reshape(-1, 1)"
      ],
      "execution_count": null,
      "outputs": []
    },
    {
      "cell_type": "code",
      "metadata": {
        "id": "sPwmylm-dDqY"
      },
      "source": [
        "\n",
        "TIME_STEPS = 80\n",
        "STEP = 80 #window 부분 - 파라미터 조정하면서 봐야할듯....\n",
        "\n",
        "X_train, y_train = create_dataset(\n",
        "    df_train[[ 'd_vector_1_x', 'd_vector_1_y',\n",
        "                'd_vector_2_x', 'd_vector_2_y',\n",
        "                'd_vector_3_x', 'd_vector_3_y',\n",
        "                'd_vector_4_x', 'd_vector_4_y',\n",
        "                'd_vector_5_x', 'd_vector_5_y',\n",
        "                'd_vector_6_x', 'd_vector_6_y',\n",
        "                'd_vector_7_x', 'd_vector_7_y',\n",
        "                'd_vector_8_x', 'd_vector_8_y',\n",
        "                'd_vector_9_x', 'd_vector_9_y',\n",
        "                'd_vector_10_x', 'd_vector_10_y',\n",
        "                'd_vector_11_x', 'd_vector_11_y',\n",
        "                'd_vector_12_x', 'd_vector_12_y',\n",
        "                'd_vector_13_x', 'd_vector_13_y',\n",
        "                'd_vector_14_x', 'd_vector_14_y',\n",
        "                'r_vector_1_x', 'r_vector_1_y',\n",
        "                'r_vector_2_x', 'r_vector_2_y',\n",
        "                'r_vector_3_x', 'r_vector_3_y',\n",
        "                'r_vector_4_x', 'r_vector_4_y',\n",
        "                'r_vector_5_x', 'r_vector_5_y',\n",
        "                'r_vector_6_x', 'r_vector_6_y',\n",
        "                'r_vector_7_x', 'r_vector_7_y',\n",
        "                'r_vector_8_x', 'r_vector_8_y',\n",
        "                'r_vector_9_x', 'r_vector_9_y',\n",
        "                'r_vector_10_x', 'r_vector_10_y',\n",
        "                'r_vector_11_x', 'r_vector_11_y'\n",
        "]],\n",
        "    df_train.activity,\n",
        "    TIME_STEPS,\n",
        "    STEP\n",
        ")\n",
        "\n",
        "X_test, y_test = create_dataset(\n",
        "    df_test[[ 'd_vector_1_x', 'd_vector_1_y',\n",
        "                'd_vector_2_x', 'd_vector_2_y',\n",
        "                'd_vector_3_x', 'd_vector_3_y',\n",
        "                'd_vector_4_x', 'd_vector_4_y',\n",
        "                'd_vector_5_x', 'd_vector_5_y',\n",
        "                'd_vector_6_x', 'd_vector_6_y',\n",
        "                'd_vector_7_x', 'd_vector_7_y',\n",
        "                'd_vector_8_x', 'd_vector_8_y',\n",
        "                'd_vector_9_x', 'd_vector_9_y',\n",
        "                'd_vector_10_x', 'd_vector_10_y',\n",
        "                'd_vector_11_x', 'd_vector_11_y',\n",
        "                'd_vector_12_x', 'd_vector_12_y',\n",
        "                'd_vector_13_x', 'd_vector_13_y',\n",
        "                'd_vector_14_x', 'd_vector_14_y',\n",
        "                'r_vector_1_x', 'r_vector_1_y',\n",
        "                'r_vector_2_x', 'r_vector_2_y',\n",
        "                'r_vector_3_x', 'r_vector_3_y',\n",
        "                'r_vector_4_x', 'r_vector_4_y',\n",
        "                'r_vector_5_x', 'r_vector_5_y',\n",
        "                'r_vector_6_x', 'r_vector_6_y',\n",
        "                'r_vector_7_x', 'r_vector_7_y',\n",
        "                'r_vector_8_x', 'r_vector_8_y',\n",
        "                'r_vector_9_x', 'r_vector_9_y',\n",
        "                'r_vector_10_x', 'r_vector_10_y',\n",
        "                'r_vector_11_x', 'r_vector_11_y'\n",
        "]],\n",
        "    df_test.activity,\n",
        "    TIME_STEPS,\n",
        "    STEP\n",
        ")"
      ],
      "execution_count": null,
      "outputs": []
    },
    {
      "cell_type": "code",
      "metadata": {
        "id": "ANI74QkyFO-e"
      },
      "source": [
        "print(X_train.shape, y_train.shape)"
      ],
      "execution_count": null,
      "outputs": []
    },
    {
      "cell_type": "code",
      "metadata": {
        "id": "9ETeP9mYkxdW"
      },
      "source": [
        "from sklearn.preprocessing import OneHotEncoder\n",
        "enc = OneHotEncoder(handle_unknown='ignore', sparse=False)\n",
        "\n",
        "enc = enc.fit(y_train)\n",
        "\n",
        "y_train = enc.transform(y_train)\n",
        "y_test = enc.transform(y_test)"
      ],
      "execution_count": null,
      "outputs": []
    },
    {
      "cell_type": "code",
      "metadata": {
        "id": "iNrcW4jyG4Bg"
      },
      "source": [
        "model = keras.Sequential()\n",
        "model.add(\n",
        "    keras.layers.Bidirectional(\n",
        "      keras.layers.LSTM(\n",
        "          units=128,\n",
        "          input_shape=[X_train.shape[1], X_train.shape[2]]\n",
        "      )\n",
        "    )\n",
        ")\n",
        "model.add(keras.layers.Dropout(rate=0.5))\n",
        "model.add(keras.layers.Dense(units=128, activation='relu'))\n",
        "model.add(keras.layers.Dense(y_train.shape[1], activation='softmax'))\n",
        "\n",
        "model.compile(\n",
        "  loss='categorical_crossentropy',\n",
        "  optimizer='adam',\n",
        "  metrics=['acc']\n",
        ")"
      ],
      "execution_count": null,
      "outputs": []
    },
    {
      "cell_type": "code",
      "metadata": {
        "id": "FTI_QqxYG-m6"
      },
      "source": [
        "history = model.fit(\n",
        "    X_train, y_train,\n",
        "    epochs=20,\n",
        "    batch_size=32,\n",
        "    validation_split=0.1,\n",
        "    shuffle=False\n",
        ")"
      ],
      "execution_count": null,
      "outputs": []
    },
    {
      "cell_type": "code",
      "metadata": {
        "id": "omyXhAixf-OI"
      },
      "source": [
        "plt.plot(history.history['loss'], label='train')\n",
        "plt.plot(history.history['val_loss'], label='test')\n",
        "plt.legend();"
      ],
      "execution_count": null,
      "outputs": []
    },
    {
      "cell_type": "code",
      "metadata": {
        "id": "x3Zg7V2qVgxO"
      },
      "source": [
        "model.evaluate(X_test, y_test)"
      ],
      "execution_count": null,
      "outputs": []
    },
    {
      "cell_type": "code",
      "metadata": {
        "id": "4fAb2cAeT9ax"
      },
      "source": [
        "y_pred = model.predict(X_test)"
      ],
      "execution_count": null,
      "outputs": []
    },
    {
      "cell_type": "markdown",
      "metadata": {
        "id": "i9Vj4T99pr-T"
      },
      "source": [
        "heatmap 출력"
      ]
    },
    {
      "cell_type": "code",
      "metadata": {
        "id": "qK4txNm-VqLl"
      },
      "source": [
        "from sklearn.metrics import confusion_matrix\n",
        "\n",
        "def plot_cm(y_true, y_pred, class_names):\n",
        "  cm = confusion_matrix(y_true, y_pred)\n",
        "  fig, ax = plt.subplots(figsize=(18, 16)) \n",
        "  ax = sns.heatmap(\n",
        "      cm, \n",
        "      annot=True, \n",
        "      fmt=\"d\", \n",
        "      cmap=sns.diverging_palette(220, 20, n=7),\n",
        "      ax=ax\n",
        "  )\n",
        "\n",
        "  plt.ylabel('Actual')\n",
        "  plt.xlabel('Predicted')\n",
        "  ax.set_xticklabels(class_names)\n",
        "  ax.set_yticklabels(class_names)\n",
        "  b, t = plt.ylim() \n",
        "  b += 0.5 \n",
        "  t -= 0.5 \n",
        "  plt.ylim(b, t) \n",
        "  plt.show() "
      ],
      "execution_count": null,
      "outputs": []
    },
    {
      "cell_type": "code",
      "metadata": {
        "id": "OhkOzpSt1vLA"
      },
      "source": [
        "plot_cm(\n",
        "  enc.inverse_transform(y_test),\n",
        "  enc.inverse_transform(y_pred),\n",
        "  enc.categories_[0]\n",
        ")"
      ],
      "execution_count": null,
      "outputs": []
    },
    {
      "cell_type": "code",
      "metadata": {
        "id": "Mqp65KYQTe_S"
      },
      "source": [
        ""
      ],
      "execution_count": null,
      "outputs": []
    }
  ]
}