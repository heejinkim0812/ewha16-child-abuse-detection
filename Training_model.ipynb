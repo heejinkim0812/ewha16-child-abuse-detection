{
  "nbformat": 4,
  "nbformat_minor": 0,
  "metadata": {
    "colab": {
      "name": "Training_model.ipynb",
      "provenance": []
    },
    "kernelspec": {
      "name": "python3",
      "display_name": "Python 3"
    },
    "language_info": {
      "name": "python"
    },
    "accelerator": "GPU"
  },
  "cells": [
    {
      "cell_type": "code",
      "metadata": {
        "colab": {
          "base_uri": "https://localhost:8080/"
        },
        "id": "eSVNyL8BLqNp",
        "outputId": "8e63b4fc-50e0-421d-f125-5a6b3764b53d"
      },
      "source": [
        "from google.colab import drive\n",
        "drive.mount('/content/drive')"
      ],
      "execution_count": 6,
      "outputs": [
        {
          "output_type": "stream",
          "name": "stdout",
          "text": [
            "Mounted at /content/drive\n"
          ]
        }
      ]
    },
    {
      "cell_type": "code",
      "metadata": {
        "id": "6irflyYvLyHw"
      },
      "source": [
        "from numpy import mean\n",
        "from numpy import std\n",
        "from numpy import dstack\n",
        "from pandas import read_csv\n",
        "from keras.models import Sequential\n",
        "from keras.layers import Dense\n",
        "from keras.layers import Flatten\n",
        "from keras.layers import Dropout\n",
        "from keras.layers import LSTM\n",
        "from keras.layers import TimeDistributed\n",
        "from keras.layers import ConvLSTM2D\n",
        "from tensorflow.keras.utils import to_categorical\n",
        "from matplotlib import pyplot\n",
        "import pandas as pd\n",
        "import numpy as np"
      ],
      "execution_count": 7,
      "outputs": []
    },
    {
      "cell_type": "code",
      "metadata": {
        "colab": {
          "base_uri": "https://localhost:8080/"
        },
        "id": "Jcvm8OMWL08J",
        "outputId": "d7ef450b-f37a-4451-ad94-3dba48b32a0d"
      },
      "source": [
        "data = pd.read_csv('/content/drive/My Drive/csv_때리기/input1.csv')\n",
        "data = np.transpose(data)\n",
        "loaded = data[:30]\n",
        "\n",
        "for i in range(2,207+1):\n",
        "  filename1 = '/content/drive/My Drive/csv_때리기/input{}.csv'.format(i)\n",
        "  filename2 = '/content/drive/My Drive/csv_쓰다듬기/input_쓰다듬기{}.csv'.format(i)\n",
        "  data = pd.read_csv(filename1)\n",
        "  data = np.transpose(data)\n",
        "  loaded = np.concatenate((loaded, data[:30]), axis=0)\n",
        "\n",
        "  data = pd.read_csv(filename2)\n",
        "  data = np.transpose(data)\n",
        "  loaded = np.concatenate((loaded, data[:30]), axis=0)\n",
        "  \n",
        "    \n",
        "loaded = np.reshape(loaded, (413,30,51))\n",
        "\n",
        "print(loaded.shape)"
      ],
      "execution_count": 8,
      "outputs": [
        {
          "output_type": "stream",
          "name": "stdout",
          "text": [
            "(413, 30, 51)\n"
          ]
        }
      ]
    },
    {
      "cell_type": "code",
      "metadata": {
        "id": "RK0tBvlZL6tL"
      },
      "source": [
        "X = loaded[:,:,:50]\n",
        "y = np.ones((413,1))\n",
        "\n",
        "for i in range(413) :\n",
        "  if i %2 == 0:\n",
        "    y[i] = 0"
      ],
      "execution_count": 12,
      "outputs": []
    },
    {
      "cell_type": "code",
      "metadata": {
        "id": "W_7f-a4ANuyN"
      },
      "source": [
        "X_train = X[:330,:,:]\n",
        "X_test = X[330:,:,:]\n",
        "y_train = y[:330]\n",
        "y_test = y[330:]"
      ],
      "execution_count": 15,
      "outputs": []
    },
    {
      "cell_type": "code",
      "metadata": {
        "id": "FyENKrxgKn8Y"
      },
      "source": [
        "\n",
        "# All Includes\n",
        "\n",
        "import numpy as np\n",
        "import matplotlib\n",
        "import matplotlib.pyplot as plt\n",
        "import tensorflow as tf\n",
        "from sklearn import metrics\n",
        "import keras\n",
        "\n",
        "import os"
      ],
      "execution_count": 40,
      "outputs": []
    },
    {
      "cell_type": "code",
      "metadata": {
        "id": "TfPac4waWeyG"
      },
      "source": [
        "model = keras.Sequential()\n",
        "model.add(\n",
        "    keras.layers.Bidirectional(\n",
        "      keras.layers.LSTM(\n",
        "          units=128,\n",
        "          input_shape=[X_train.shape[1], X_train.shape[2]]\n",
        "      )\n",
        "    )\n",
        ")\n",
        "model.add(keras.layers.Dropout(rate=0.5))\n",
        "model.add(keras.layers.Dense(units=128, activation='relu'))\n",
        "model.add(keras.layers.Dense(y_train.shape[1], activation='softmax'))\n",
        "\n",
        "model.compile(\n",
        "  loss='categorical_crossentropy',\n",
        "  optimizer='adam',\n",
        "  metrics=['acc']\n",
        ")"
      ],
      "execution_count": 41,
      "outputs": []
    },
    {
      "cell_type": "code",
      "metadata": {
        "colab": {
          "base_uri": "https://localhost:8080/"
        },
        "id": "wkQls4kjW5dK",
        "outputId": "f7f8c723-f402-4ac0-fd23-d027171fb60e"
      },
      "source": [
        "history = model.fit(\n",
        "    X_train, y_train,\n",
        "    epochs=20,\n",
        "    batch_size=32,\n",
        "    validation_split=0.1,\n",
        "    shuffle=False\n",
        ")"
      ],
      "execution_count": 43,
      "outputs": [
        {
          "output_type": "stream",
          "name": "stdout",
          "text": [
            "Epoch 1/20\n",
            "10/10 [==============================] - 6s 78ms/step - loss: nan - acc: 0.4983 - val_loss: nan - val_acc: 0.4848\n",
            "Epoch 2/20\n",
            "10/10 [==============================] - 0s 8ms/step - loss: nan - acc: 0.5017 - val_loss: nan - val_acc: 0.4848\n",
            "Epoch 3/20\n",
            "10/10 [==============================] - 0s 9ms/step - loss: nan - acc: 0.5017 - val_loss: nan - val_acc: 0.4848\n",
            "Epoch 4/20\n",
            "10/10 [==============================] - 0s 8ms/step - loss: nan - acc: 0.5017 - val_loss: nan - val_acc: 0.4848\n",
            "Epoch 5/20\n",
            "10/10 [==============================] - 0s 8ms/step - loss: nan - acc: 0.5017 - val_loss: nan - val_acc: 0.4848\n",
            "Epoch 6/20\n",
            "10/10 [==============================] - 0s 8ms/step - loss: nan - acc: 0.5017 - val_loss: nan - val_acc: 0.4848\n",
            "Epoch 7/20\n",
            "10/10 [==============================] - 0s 8ms/step - loss: nan - acc: 0.5017 - val_loss: nan - val_acc: 0.4848\n",
            "Epoch 8/20\n",
            "10/10 [==============================] - 0s 8ms/step - loss: nan - acc: 0.5017 - val_loss: nan - val_acc: 0.4848\n",
            "Epoch 9/20\n",
            "10/10 [==============================] - 0s 8ms/step - loss: nan - acc: 0.5017 - val_loss: nan - val_acc: 0.4848\n",
            "Epoch 10/20\n",
            "10/10 [==============================] - 0s 10ms/step - loss: nan - acc: 0.5017 - val_loss: nan - val_acc: 0.4848\n",
            "Epoch 11/20\n",
            "10/10 [==============================] - 0s 8ms/step - loss: nan - acc: 0.5017 - val_loss: nan - val_acc: 0.4848\n",
            "Epoch 12/20\n",
            "10/10 [==============================] - 0s 8ms/step - loss: nan - acc: 0.5017 - val_loss: nan - val_acc: 0.4848\n",
            "Epoch 13/20\n",
            "10/10 [==============================] - 0s 8ms/step - loss: nan - acc: 0.5017 - val_loss: nan - val_acc: 0.4848\n",
            "Epoch 14/20\n",
            "10/10 [==============================] - 0s 8ms/step - loss: nan - acc: 0.5017 - val_loss: nan - val_acc: 0.4848\n",
            "Epoch 15/20\n",
            "10/10 [==============================] - 0s 8ms/step - loss: nan - acc: 0.5017 - val_loss: nan - val_acc: 0.4848\n",
            "Epoch 16/20\n",
            "10/10 [==============================] - 0s 8ms/step - loss: nan - acc: 0.5017 - val_loss: nan - val_acc: 0.4848\n",
            "Epoch 17/20\n",
            "10/10 [==============================] - 0s 8ms/step - loss: nan - acc: 0.5017 - val_loss: nan - val_acc: 0.4848\n",
            "Epoch 18/20\n",
            "10/10 [==============================] - 0s 8ms/step - loss: nan - acc: 0.5017 - val_loss: nan - val_acc: 0.4848\n",
            "Epoch 19/20\n",
            "10/10 [==============================] - 0s 8ms/step - loss: nan - acc: 0.5017 - val_loss: nan - val_acc: 0.4848\n",
            "Epoch 20/20\n",
            "10/10 [==============================] - 0s 8ms/step - loss: nan - acc: 0.5017 - val_loss: nan - val_acc: 0.4848\n"
          ]
        }
      ]
    },
    {
      "cell_type": "code",
      "metadata": {
        "colab": {
          "base_uri": "https://localhost:8080/"
        },
        "id": "hPtV8RG7XHib",
        "outputId": "f7446d4e-c13e-43ab-ff39-2a98c9f6eed7"
      },
      "source": [
        "model.evaluate(X_test, y_test)"
      ],
      "execution_count": 45,
      "outputs": [
        {
          "output_type": "stream",
          "name": "stdout",
          "text": [
            "3/3 [==============================] - 0s 5ms/step - loss: nan - acc: 0.5060\n"
          ]
        },
        {
          "output_type": "execute_result",
          "data": {
            "text/plain": [
              "[nan, 0.5060241222381592]"
            ]
          },
          "metadata": {},
          "execution_count": 45
        }
      ]
    },
    {
      "cell_type": "code",
      "metadata": {
        "colab": {
          "base_uri": "https://localhost:8080/",
          "height": 295
        },
        "id": "75groHyLX2Cr",
        "outputId": "d405dc17-27e4-4854-f23c-9b026a6f6f7b"
      },
      "source": [
        "plt.plot(history.history['acc'])\n",
        "plt.plot(history.history['val_acc'])\n",
        "plt.title('model accuracy')\n",
        "plt.ylabel('accuracy')\n",
        "plt.xlabel('epoch')\n",
        "plt.legend(['train', 'test'], loc='upper left')\n",
        "plt.show()"
      ],
      "execution_count": 47,
      "outputs": [
        {
          "output_type": "display_data",
          "data": {
            "image/png": "[encoded data removed]",
            "text/plain": [
              "<Figure size 432x288 with 1 Axes>"
            ]
          },
          "metadata": {
            "needs_background": "light"
          }
        }
      ]
    }
  ]
}